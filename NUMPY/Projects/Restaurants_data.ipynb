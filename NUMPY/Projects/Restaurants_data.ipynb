{
 "cells": [
  {
   "cell_type": "markdown",
   "id": "79c5c43b",
   "metadata": {},
   "source": [
    "# Advance Operations with Business Example\n"
   ]
  },
  {
   "cell_type": "code",
   "execution_count": 24,
   "id": "556e02ca",
   "metadata": {},
   "outputs": [],
   "source": [
    "import numpy as np \n",
    "import matplotlib.pyplot as plt"
   ]
  },
  {
   "cell_type": "markdown",
   "id": "19789086",
   "metadata": {},
   "source": [
    "## Data Strucuture"
   ]
  },
  {
   "cell_type": "markdown",
   "id": "baa6a7a6",
   "metadata": {},
   "source": [
    "### [Restaurant_id, 2021, 2022, 2023, 2024]"
   ]
  },
  {
   "cell_type": "code",
   "execution_count": null,
   "id": "1d07b169",
   "metadata": {},
   "outputs": [
    {
     "name": "stdout",
     "output_type": "stream",
     "text": [
      "==== Sales Analysis Begins ====\n"
     ]
    }
   ],
   "source": [
    "sales_data=np.array([\n",
    "    [1, 1000, 1200, 1300, 1400], #Restaurnat 1\n",
    "    [2, 1500, 1600, 1700, 1800], #Restaurnat 2\n",
    "    [3, 2000, 2100, 2200, 2300], #Restaurnat 3\n",
    "    [4, 2500, 2600, 2700, 2800], #Restaurnat 4\n",
    "    [5, 3000, 3100, 3200, 3300] #Restaurnat 5\n",
    "])\n",
    "print(\"==== Sales Analysis Begins ====\")"
   ]
  },
  {
   "cell_type": "code",
   "execution_count": 7,
   "id": "fde68f79",
   "metadata": {},
   "outputs": [
    {
     "name": "stdout",
     "output_type": "stream",
     "text": [
      "Data Shape =  (5, 5)\n"
     ]
    }
   ],
   "source": [
    "print(\"Data Shape = \",sales_data.shape)"
   ]
  },
  {
   "cell_type": "code",
   "execution_count": 10,
   "id": "554f0997",
   "metadata": {},
   "outputs": [
    {
     "name": "stdout",
     "output_type": "stream",
     "text": [
      "First 3 data = \n",
      " [[   1 1000 1200 1300 1400]\n",
      " [   2 1500 1600 1700 1800]\n",
      " [   3 2000 2100 2200 2300]]\n"
     ]
    }
   ],
   "source": [
    "print(\"First 3 data = \\n\",sales_data[:3])"
   ]
  },
  {
   "cell_type": "code",
   "execution_count": 12,
   "id": "c7d877ae",
   "metadata": {},
   "outputs": [
    {
     "name": "stdout",
     "output_type": "stream",
     "text": [
      "Last 2 data = \n",
      " [[   4 2500 2600 2700 2800]\n",
      " [   5 3000 3100 3200 3300]]\n"
     ]
    }
   ],
   "source": [
    "print(\"Last 2 data = \\n\",sales_data[3:])"
   ]
  },
  {
   "cell_type": "markdown",
   "id": "14239439",
   "metadata": {},
   "source": [
    "### Total sales per year"
   ]
  },
  {
   "cell_type": "code",
   "execution_count": 19,
   "id": "0a80a011",
   "metadata": {},
   "outputs": [
    {
     "name": "stdout",
     "output_type": "stream",
     "text": [
      "Sales per year =  [10000 10600 11100 11600]\n"
     ]
    }
   ],
   "source": [
    "print(\"Sales per year = \",np.sum(sales_data[:, 1:], axis=0))"
   ]
  },
  {
   "cell_type": "markdown",
   "id": "a9cc5fe0",
   "metadata": {},
   "source": [
    "### Minimum sales per restaurant"
   ]
  },
  {
   "cell_type": "code",
   "execution_count": 22,
   "id": "cbe1ac0a",
   "metadata": {},
   "outputs": [
    {
     "name": "stdout",
     "output_type": "stream",
     "text": [
      "Minimum sales per year each restaurant respectively =  [1000 1200 1300 1400]\n"
     ]
    }
   ],
   "source": [
    "min_sale = np.min(sales_data[:, 1:], axis=0)\n",
    "print(\"Minimum sales per year each restaurant respectively = \", min_sale)"
   ]
  },
  {
   "cell_type": "markdown",
   "id": "b56e5c75",
   "metadata": {},
   "source": [
    "### Average sales per restaurant"
   ]
  },
  {
   "cell_type": "code",
   "execution_count": 23,
   "id": "c6573b64",
   "metadata": {},
   "outputs": [
    {
     "name": "stdout",
     "output_type": "stream",
     "text": [
      "Average sales per year each restaurant respectively =  [2250. 2350. 2450. 2550.]\n"
     ]
    }
   ],
   "source": [
    "avg=np.mean(sales_data[1:,1:], axis=0)\n",
    "print(\"Average sales per year each restaurant respectively = \", avg)"
   ]
  },
  {
   "cell_type": "code",
   "execution_count": null,
   "id": "16c889d7",
   "metadata": {},
   "outputs": [],
   "source": []
  }
 ],
 "metadata": {
  "kernelspec": {
   "display_name": "venv",
   "language": "python",
   "name": "python3"
  },
  "language_info": {
   "codemirror_mode": {
    "name": "ipython",
    "version": 3
   },
   "file_extension": ".py",
   "mimetype": "text/x-python",
   "name": "python",
   "nbconvert_exporter": "python",
   "pygments_lexer": "ipython3",
   "version": "3.12.3"
  }
 },
 "nbformat": 4,
 "nbformat_minor": 5
}
